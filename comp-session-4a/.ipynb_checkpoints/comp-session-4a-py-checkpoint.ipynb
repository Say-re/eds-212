{
 "cells": [
  {
   "cell_type": "code",
   "execution_count": 15,
   "id": "e4b211fa-5970-4725-ab8a-aa1330976b1c",
   "metadata": {},
   "outputs": [
    {
     "name": "stdout",
     "output_type": "stream",
     "text": [
      "[[10  1]\n",
      " [ 4  7]]\n",
      "[[2 8]\n",
      " [5 9]]\n",
      "Matrix addition result [[12  9]\n",
      " [ 9 16]]\n",
      "Matrix subtraction result [[ 8 -7]\n",
      " [-1 -2]]\n",
      "Matrix scalar multiplication result [[200 800]\n",
      " [500 900]]\n",
      "[[25 89]\n",
      " [43 95]]\n"
     ]
    }
   ],
   "source": [
    "import numpy as np\n",
    "\n",
    "# Make a list of values\n",
    "list_1 = [1, 2, 3]\n",
    "\n",
    "# Make a vector using np.array\n",
    "vector_1 = np.array(list_1)\n",
    "\n",
    "# Return values\n",
    "vector_1\n",
    "\n",
    "# Make second list of values\n",
    "list_2 = [3, 4, 20]\n",
    "vector_2 = np.array(list_2)\n",
    "\n",
    "#Return values\n",
    "vector_2\n",
    "\n",
    "# Vector addition\n",
    "vector_1 + vector_2\n",
    "\n",
    "# Vector subtraction\n",
    "vector_1 - vector_2\n",
    "\n",
    "# Scalar multiplication\n",
    "vector_2 * 100\n",
    "\n",
    "# Dot product using numpy\n",
    "np.dot(vector_1, vector_2)\n",
    "\n",
    "# *** Matrices in Python ***\n",
    "# Make one 2x2 matrix\n",
    "matrix_1 = np.matrix([[10, 1], [4, 7]])\n",
    "print(matrix_1)\n",
    "\n",
    "# Make second 2x2 matrix\n",
    "matrix_2 = np.matrix([[2, 8], [5, 9]])\n",
    "print(matrix_2)\n",
    "\n",
    "# Matrix addition example\n",
    "print('Matrix addition result', matrix_1 + matrix_2)\n",
    "\n",
    "# Matrix subtraction example\n",
    "print('Matrix subtraction result', matrix_1 - matrix_2)\n",
    "\n",
    "# Matrix scalar multiplication example\n",
    "print('Matrix scalar multiplication result', 100 * matrix_2)\n",
    "\n",
    "# Matrix multiplication\n",
    "matrix_mul_res = np.matmul(matrix_1, matrix_2)\n",
    "print(matrix_mul_res)\n",
    "\n"
   ]
  },
  {
   "cell_type": "code",
   "execution_count": null,
   "id": "3c5d2a9c-ba0b-4a40-bdc9-df81bd42a936",
   "metadata": {},
   "outputs": [],
   "source": []
  }
 ],
 "metadata": {
  "kernelspec": {
   "display_name": "Python 3 (ipykernel)",
   "language": "python",
   "name": "python3"
  },
  "language_info": {
   "codemirror_mode": {
    "name": "ipython",
    "version": 3
   },
   "file_extension": ".py",
   "mimetype": "text/x-python",
   "name": "python",
   "nbconvert_exporter": "python",
   "pygments_lexer": "ipython3",
   "version": "3.9.7"
  }
 },
 "nbformat": 4,
 "nbformat_minor": 5
}
